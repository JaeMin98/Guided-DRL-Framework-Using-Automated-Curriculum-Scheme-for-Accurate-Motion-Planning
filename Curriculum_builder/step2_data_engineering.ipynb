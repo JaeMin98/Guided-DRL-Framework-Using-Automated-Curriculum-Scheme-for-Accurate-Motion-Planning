{
 "cells": [
  {
   "cell_type": "code",
   "execution_count": 1,
   "metadata": {},
   "outputs": [],
   "source": [
    "import pandas as pd\n",
    "import os\n",
    "from sklearn.preprocessing import MinMaxScaler"
   ]
  },
  {
   "cell_type": "code",
   "execution_count": 2,
   "metadata": {},
   "outputs": [],
   "source": [
    "csv_path = \"data_points\"\n",
    "if not os.path.exists(csv_path): os.makedirs(csv_path)\n",
    "log_path =  os.path.join(csv_path, 'logs')\n",
    "if not os.path.exists(log_path): os.makedirs(log_path)\n",
    "\n",
    "# Variables for OutlierRemover Class\n",
    "origin_csv_path = os.path.join(csv_path, 'data_points_origin.csv')\n",
    "outlier_removed_csv_path = os.path.join(csv_path, 'outlier_removed_data_points.csv')\n",
    "lower_outliers_path =   os.path.join(log_path, 'lower_outliers.csv')\n",
    "upper_outliers_path = os.path.join(log_path, 'upper_outliers.csv')\n",
    "\n",
    "# Variable for DataNormalizer Class\n",
    "normalized_csv_path = os.path.join(csv_path, 'normalized_data_points.csv')"
   ]
  },
  {
   "cell_type": "code",
   "execution_count": 3,
   "metadata": {},
   "outputs": [],
   "source": [
    "class OutlierRemover:\n",
    "    def __init__(self, filepath):\n",
    "        \"\"\"Initialize the DataFrame by taking the path to the CSV file\"\"\"\n",
    "        self.origin_data = pd.read_csv(filepath)\n",
    "    \n",
    "    def remove_outliers(self, column_index):\n",
    "        \"\"\"Calculates the IQR for the specified column index and removes rows with outliers\"\"\"\n",
    "        # Select that column\n",
    "        col_values = self.origin_data.iloc[:, column_index]\n",
    "        \n",
    "        # Calculate IQRs\n",
    "        Q1 = col_values.quantile(0.25)\n",
    "        Q3 = col_values.quantile(0.75)\n",
    "        IQR = Q3 - Q1\n",
    "        \n",
    "        # Calculate outlier boundary values\n",
    "        lower_bound = Q1 - 1.5 * IQR\n",
    "        upper_bound = Q3 + 1.5 * IQR\n",
    "        \n",
    "        # Filtering outliers\n",
    "        self.lower_outliers = self.origin_data[(col_values < lower_bound)]\n",
    "        self.upper_outliers = self.origin_data[(col_values > upper_bound)]\n",
    "        self.data = self.origin_data[(col_values >= lower_bound) & (col_values <= upper_bound)]\n",
    "\n",
    "    \n",
    "    def save_data(self, output_filepath):\n",
    "        self.data.to_csv(output_filepath, index=False)\n",
    "        print(f\"Outlier removed csv file was created in -> {output_filepath}\")\n",
    "\n",
    "    def save_outliers_data(self, lower_outlier_path, upper_outlier_path):\n",
    "        self.lower_outliers.to_csv(lower_outlier_path, index=False)\n",
    "        print(f\"Data detected as outliers stored in (lower bound) -> {lower_outlier_path}\")\n",
    "        self.upper_outliers.to_csv(upper_outlier_path, index=False)\n",
    "        print(f\"Data detected as outliers stored in (upper bound) -> {upper_outlier_path}\")"
   ]
  },
  {
   "cell_type": "code",
   "execution_count": 4,
   "metadata": {},
   "outputs": [
    {
     "name": "stdout",
     "output_type": "stream",
     "text": [
      "Outlier removed csv file was created in -> data_points/outlier_removed_data_points.csv\n",
      "Data detected as outliers stored in (lower bound) -> data_points/logs/lower_outliers.csv\n",
      "Data detected as outliers stored in (upper bound) -> data_points/logs/upper_outliers.csv\n"
     ]
    }
   ],
   "source": [
    "remover = OutlierRemover(origin_csv_path)\n",
    "remover.remove_outliers(column_index=3)  # Detect outliers based on the 4th index (run_time)\n",
    "remover.save_data(outlier_removed_csv_path)\n",
    "remover.save_outliers_data(lower_outliers_path, upper_outliers_path)"
   ]
  },
  {
   "cell_type": "code",
   "execution_count": 5,
   "metadata": {},
   "outputs": [
    {
     "name": "stdout",
     "output_type": "stream",
     "text": [
      "Origin data length : 274822\n",
      "Outliers removed data length : 260617\n",
      "Lower outliers length : 6\n",
      "Upper outliers length : 14199\n"
     ]
    }
   ],
   "source": [
    "print( f\"Origin data length : {len(remover.origin_data)}\" )\n",
    "print( f\"Outliers removed data length : {len(remover.data)}\")\n",
    "print( f\"Lower outliers length : {len(remover.lower_outliers)}\")\n",
    "print( f\"Upper outliers length : {len(remover.upper_outliers)}\")"
   ]
  },
  {
   "cell_type": "code",
   "execution_count": 6,
   "metadata": {},
   "outputs": [],
   "source": [
    "class DataNormalizer:\n",
    "    def __init__(self, filepath):\n",
    "        self.filepath = filepath\n",
    "        self.data = self.load_data()\n",
    "\n",
    "    def load_data(self):\n",
    "        return pd.read_csv(self.filepath)\n",
    "\n",
    "    def normalize_columns(self, normalized_filepath, num_of_data=None):\n",
    "        \"\"\" Methods to normalize data from the 4th to the last column The data is scaled to values between 0 and 1 using the Min-Max normalization method\"\"\"\n",
    "        scaler = MinMaxScaler()\n",
    "        self.data.iloc[:, 3:] = scaler.fit_transform(self.data.iloc[:, 3:])\n",
    "        self.save_data(normalized_filepath, num_of_data)\n",
    "    \n",
    "    def save_data(self, normalized_filepath, num_of_data = None):\n",
    "\n",
    "        self.data.columns = ['x','y','z','execution_time','distance','joint_delta_6ea','joint_delta_3ea','joint1_delta','joint2_delta','joint3_delta','joint4_delta','joint5_delta','joint6_delta']\n",
    "        print(self.data)\n",
    "        if(num_of_data == None):\n",
    "            self.data.to_csv(normalized_filepath, index=False)\n",
    "        else:\n",
    "            sampled_data = self.data.sample(n=num_of_data, random_state=42)\n",
    "            sampled_data.to_csv(normalized_filepath, index=False)\n",
    "            print( f\"Number of data changes based on \\\"num_of_data\\\" : ( {len(self.data)} ) -> ( {num_of_data} )\" )\n",
    "            \n",
    "        print(f\"Normalized csv file was created in -> {normalized_filepath}\")"
   ]
  },
  {
   "cell_type": "code",
   "execution_count": 7,
   "metadata": {},
   "outputs": [
    {
     "name": "stdout",
     "output_type": "stream",
     "text": [
      "               x         y         z  execution_time  distance  \\\n",
      "0      -0.295344 -0.293103  0.357950        0.678815  0.777203   \n",
      "1       0.429015  0.180910  0.088358        0.890661  0.507575   \n",
      "2       0.429015 -0.180910  0.088358        0.578588  0.507638   \n",
      "3       0.221969  0.291517  0.197859        0.521640  0.453823   \n",
      "4       0.221969 -0.291517  0.197859        0.332574  0.453693   \n",
      "...          ...       ...       ...             ...       ...   \n",
      "260612  0.023343 -0.084324  0.545065        0.542141  0.340455   \n",
      "260613 -0.262313  0.053985  0.382603        0.423690  0.649333   \n",
      "260614 -0.262313 -0.053985  0.382603        0.897494  0.649273   \n",
      "260615 -0.063888  0.003249  0.608608        0.473804  0.455614   \n",
      "260616 -0.063888 -0.003249  0.608608        0.621868  0.455564   \n",
      "\n",
      "        joint_delta_6ea  joint_delta_3ea  joint1_delta  joint2_delta  \\\n",
      "0              0.836417         0.732504      0.802139      0.522184   \n",
      "1              0.621685         0.482731      0.124645      0.839933   \n",
      "2              0.442832         0.469518      0.135346      0.817004   \n",
      "3              0.430023         0.273753      0.290519      0.406317   \n",
      "4              0.391994         0.283954      0.315544      0.433935   \n",
      "...                 ...              ...           ...           ...   \n",
      "260612         0.519934         0.325891      0.480502      0.219651   \n",
      "260613         0.454845         0.512480      0.996095      0.007836   \n",
      "260614         0.690757         0.496816      0.961017      0.069186   \n",
      "260615         0.515261         0.272490      0.110632      0.248619   \n",
      "260616         0.706730         0.666488      0.992656      0.094549   \n",
      "\n",
      "        joint3_delta  joint4_delta  joint5_delta  joint6_delta  \n",
      "0           0.738915      0.535790      0.946732      0.939625  \n",
      "1           0.697076      0.798357      0.524518      0.707226  \n",
      "2           0.651952      0.792051      0.304817      0.130516  \n",
      "3           0.072038      0.487985      0.892459      0.350320  \n",
      "4           0.031795      0.244559      0.801049      0.430335  \n",
      "...              ...           ...           ...           ...  \n",
      "260612      0.127325      0.295731      0.722042      0.905606  \n",
      "260613      0.110878      0.436687      0.231377      0.428948  \n",
      "260614      0.046135      0.448317      0.876205      0.996770  \n",
      "260615      0.593422      0.466889      0.960415      0.691190  \n",
      "260616      0.614120      0.164213      0.936904      0.846844  \n",
      "\n",
      "[260617 rows x 13 columns]\n",
      "Number of data changes based on \"num_of_data\" : ( 260617 ) -> ( 20000 )\n",
      "Normalized csv file was created in -> data_points/normalized_data_points.csv\n"
     ]
    }
   ],
   "source": [
    "normalizer = DataNormalizer(outlier_removed_csv_path) \n",
    "normalized_data = normalizer.normalize_columns(normalized_csv_path, num_of_data = 24000) #num_of_data can be used to determine the number of data"
   ]
  }
 ],
 "metadata": {
  "kernelspec": {
   "display_name": "Python 3",
   "language": "python",
   "name": "python3"
  },
  "language_info": {
   "codemirror_mode": {
    "name": "ipython",
    "version": 3
   },
   "file_extension": ".py",
   "mimetype": "text/x-python",
   "name": "python",
   "nbconvert_exporter": "python",
   "pygments_lexer": "ipython3",
   "version": "3.8.10"
  }
 },
 "nbformat": 4,
 "nbformat_minor": 2
}
