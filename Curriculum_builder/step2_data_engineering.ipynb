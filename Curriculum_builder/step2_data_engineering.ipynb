{
 "cells": [
  {
   "cell_type": "code",
   "execution_count": 15,
   "metadata": {},
   "outputs": [],
   "source": [
    "import pandas as pd\n",
    "import os\n",
    "from sklearn.preprocessing import MinMaxScaler"
   ]
  },
  {
   "cell_type": "code",
   "execution_count": 16,
   "metadata": {},
   "outputs": [],
   "source": [
    "csv_path = \"data_points\"\n",
    "if not os.path.exists(csv_path): os.makedirs(csv_path)\n",
    "log_path =  os.path.join(csv_path, 'logs')\n",
    "if not os.path.exists(log_path): os.makedirs(log_path)\n",
    "\n",
    "# Variables for OutlierRemover Class\n",
    "origin_csv_path = os.path.join(csv_path, 'data_points_origin.csv')\n",
    "outlier_removed_csv_path = os.path.join(csv_path, 'outlier_removed_data_points.csv')\n",
    "lower_outliers_path =   os.path.join(log_path, 'lower_outliers.csv')\n",
    "upper_outliers_path = os.path.join(log_path, 'upper_outliers.csv')\n",
    "\n",
    "# Variable for DataNormalizer Class\n",
    "normalized_csv_path = os.path.join(csv_path, 'normalized_data_points.csv')"
   ]
  },
  {
   "cell_type": "code",
   "execution_count": 17,
   "metadata": {},
   "outputs": [],
   "source": [
    "class OutlierRemover:\n",
    "    def __init__(self, filepath):\n",
    "        \"\"\"Initialize the DataFrame by taking the path to the CSV file\"\"\"\n",
    "        self.origin_data = pd.read_csv(filepath)\n",
    "    \n",
    "    def remove_outliers(self, column_index):\n",
    "        \"\"\"Calculates the IQR for the specified column index and removes rows with outliers\"\"\"\n",
    "        # Select that column\n",
    "        col_values = self.origin_data.iloc[:, column_index]\n",
    "        \n",
    "        # Calculate IQRs\n",
    "        Q1 = col_values.quantile(0.25)\n",
    "        Q3 = col_values.quantile(0.75)\n",
    "        IQR = Q3 - Q1\n",
    "        \n",
    "        # Calculate outlier boundary values\n",
    "        lower_bound = Q1 - 1.5 * IQR\n",
    "        upper_bound = Q3 + 1.5 * IQR\n",
    "        \n",
    "        # Filtering outliers\n",
    "        self.lower_outliers = self.origin_data[(col_values < lower_bound)]\n",
    "        self.upper_outliers = self.origin_data[(col_values > upper_bound)]\n",
    "        self.data = self.origin_data[(col_values >= lower_bound) & (col_values <= upper_bound)]\n",
    "\n",
    "    \n",
    "    def save_data(self, output_filepath):\n",
    "        self.data.to_csv(output_filepath, index=False)\n",
    "        print(f\"Outlier removed csv file was created in -> {output_filepath}\")\n",
    "\n",
    "    def save_outliers_data(self, lower_outlier_path, upper_outlier_path):\n",
    "        self.lower_outliers.to_csv(lower_outlier_path, index=False)\n",
    "        print(f\"Data detected as outliers stored in (lower bound) -> {lower_outlier_path}\")\n",
    "        self.upper_outliers.to_csv(upper_outlier_path, index=False)\n",
    "        print(f\"Data detected as outliers stored in (upper bound) -> {upper_outlier_path}\")"
   ]
  },
  {
   "cell_type": "code",
   "execution_count": 18,
   "metadata": {},
   "outputs": [
    {
     "name": "stdout",
     "output_type": "stream",
     "text": [
      "Outlier removed csv file was created in -> data_points\\outlier_removed_data_points.csv\n",
      "Data detected as outliers stored in (lower bound) -> data_points\\logs\\lower_outliers.csv\n",
      "Data detected as outliers stored in (upper bound) -> data_points\\logs\\upper_outliers.csv\n"
     ]
    }
   ],
   "source": [
    "remover = OutlierRemover(origin_csv_path)\n",
    "remover.remove_outliers(column_index=3)  # Detect outliers based on the 4th index (run_time)\n",
    "remover.save_data(outlier_removed_csv_path)\n",
    "remover.save_outliers_data(lower_outliers_path, upper_outliers_path)"
   ]
  },
  {
   "cell_type": "code",
   "execution_count": 19,
   "metadata": {},
   "outputs": [
    {
     "name": "stdout",
     "output_type": "stream",
     "text": [
      "Origin data length : 438581\n",
      "Outliers removed data length : 425413\n",
      "Lower outliers length : 419\n",
      "Upper outliers length : 12749\n"
     ]
    }
   ],
   "source": [
    "print( f\"Origin data length : {len(remover.origin_data)}\" )\n",
    "print( f\"Outliers removed data length : {len(remover.data)}\")\n",
    "print( f\"Lower outliers length : {len(remover.lower_outliers)}\")\n",
    "print( f\"Upper outliers length : {len(remover.upper_outliers)}\")"
   ]
  },
  {
   "cell_type": "code",
   "execution_count": 20,
   "metadata": {},
   "outputs": [],
   "source": [
    "class DataNormalizer:\n",
    "    def __init__(self, filepath):\n",
    "        self.filepath = filepath\n",
    "        self.data = self.load_data()\n",
    "\n",
    "    def load_data(self):\n",
    "        return pd.read_csv(self.filepath)\n",
    "\n",
    "    def normalize_columns(self, normalized_filepath, num_of_data=None):\n",
    "        \"\"\" Methods to normalize data from the 4th to the last column The data is scaled to values between 0 and 1 using the Min-Max normalization method\"\"\"\n",
    "        scaler = MinMaxScaler()\n",
    "        self.data.iloc[:, 3:] = scaler.fit_transform(self.data.iloc[:, 3:])\n",
    "        self.save_data(normalized_filepath, num_of_data)\n",
    "    \n",
    "    def save_data(self, normalized_filepath, num_of_data):\n",
    "        if(num_of_data == None):\n",
    "            self.data.to_csv(normalized_filepath, index=False)\n",
    "        else:\n",
    "            sampled_data = self.data.sample(n=num_of_data, random_state=42)\n",
    "            sampled_data.to_csv(normalized_filepath, index=False)\n",
    "            print( f\"Number of data changes based on \\\"num_of_data\\\" : ( {len(self.data)} ) -> ( {num_of_data} )\" )\n",
    "            \n",
    "        print(f\"Normalized csv file was created in -> {normalized_filepath}\")"
   ]
  },
  {
   "cell_type": "code",
   "execution_count": 21,
   "metadata": {},
   "outputs": [
    {
     "name": "stdout",
     "output_type": "stream",
     "text": [
      "Number of data changes based on \"num_of_data\" : ( 425413 ) -> ( 400000 )\n",
      "Normalized csv file was created in -> data_points\\normalized_data_points.csv\n"
     ]
    }
   ],
   "source": [
    "normalizer = DataNormalizer(outlier_removed_csv_path) \n",
    "normalized_data = normalizer.normalize_columns(normalized_csv_path, num_of_data = 400000) #num_of_data can be used to determine the number of data"
   ]
  }
 ],
 "metadata": {
  "kernelspec": {
   "display_name": "Python 3",
   "language": "python",
   "name": "python3"
  },
  "language_info": {
   "codemirror_mode": {
    "name": "ipython",
    "version": 3
   },
   "file_extension": ".py",
   "mimetype": "text/x-python",
   "name": "python",
   "nbconvert_exporter": "python",
   "pygments_lexer": "ipython3",
   "version": "3.11.7"
  }
 },
 "nbformat": 4,
 "nbformat_minor": 2
}
